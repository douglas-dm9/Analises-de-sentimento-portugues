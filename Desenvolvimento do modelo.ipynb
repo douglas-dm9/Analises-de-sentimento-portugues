{
  "nbformat": 4,
  "nbformat_minor": 0,
  "metadata": {
    "colab": {
      "name": "Análise de Sentimentos -B2W- Dataset.ipynb",
      "provenance": [],
      "collapsed_sections": []
    },
    "kernelspec": {
      "display_name": "Python 3",
      "name": "python3"
    },
    "language_info": {
      "name": "python"
    }
  },
  "cells": [
    {
      "cell_type": "markdown",
      "metadata": {
        "id": "xosiw1MCcU0d"
      },
      "source": [
        "#### Importando as bibliotecas necessárias\n"
      ]
    },
    {
      "cell_type": "code",
      "metadata": {
        "colab": {
          "base_uri": "https://localhost:8080/"
        },
        "id": "Fxjo5TVx6oAE",
        "outputId": "f58e49ec-3e30-4c57-cad5-9ae35d11de9b"
      },
      "source": [
        "pip install unidecode"
      ],
      "execution_count": 1,
      "outputs": [
        {
          "output_type": "stream",
          "name": "stdout",
          "text": [
            "Looking in indexes: https://pypi.org/simple, https://us-python.pkg.dev/colab-wheels/public/simple/\n",
            "Collecting unidecode\n",
            "  Downloading Unidecode-1.3.4-py3-none-any.whl (235 kB)\n",
            "\u001b[K     |████████████████████████████████| 235 kB 4.8 MB/s \n",
            "\u001b[?25hInstalling collected packages: unidecode\n",
            "Successfully installed unidecode-1.3.4\n"
          ]
        }
      ]
    },
    {
      "cell_type": "code",
      "metadata": {
        "colab": {
          "base_uri": "https://localhost:8080/"
        },
        "id": "4u_WR-KicJ3x",
        "outputId": "c99c7e93-7b32-4bc0-80ed-0f1105e904bc"
      },
      "source": [
        "pip install scikit-learn==0.24.2"
      ],
      "execution_count": 2,
      "outputs": [
        {
          "output_type": "stream",
          "name": "stdout",
          "text": [
            "Looking in indexes: https://pypi.org/simple, https://us-python.pkg.dev/colab-wheels/public/simple/\n",
            "Collecting scikit-learn==0.24.2\n",
            "  Downloading scikit_learn-0.24.2-cp37-cp37m-manylinux2010_x86_64.whl (22.3 MB)\n",
            "\u001b[K     |████████████████████████████████| 22.3 MB 1.5 MB/s \n",
            "\u001b[?25hRequirement already satisfied: numpy>=1.13.3 in /usr/local/lib/python3.7/dist-packages (from scikit-learn==0.24.2) (1.21.6)\n",
            "Requirement already satisfied: threadpoolctl>=2.0.0 in /usr/local/lib/python3.7/dist-packages (from scikit-learn==0.24.2) (3.1.0)\n",
            "Requirement already satisfied: joblib>=0.11 in /usr/local/lib/python3.7/dist-packages (from scikit-learn==0.24.2) (1.1.0)\n",
            "Requirement already satisfied: scipy>=0.19.1 in /usr/local/lib/python3.7/dist-packages (from scikit-learn==0.24.2) (1.7.3)\n",
            "Installing collected packages: scikit-learn\n",
            "  Attempting uninstall: scikit-learn\n",
            "    Found existing installation: scikit-learn 1.0.2\n",
            "    Uninstalling scikit-learn-1.0.2:\n",
            "      Successfully uninstalled scikit-learn-1.0.2\n",
            "\u001b[31mERROR: pip's dependency resolver does not currently take into account all the packages that are installed. This behaviour is the source of the following dependency conflicts.\n",
            "yellowbrick 1.4 requires scikit-learn>=1.0.0, but you have scikit-learn 0.24.2 which is incompatible.\u001b[0m\n",
            "Successfully installed scikit-learn-0.24.2\n"
          ]
        }
      ]
    },
    {
      "cell_type": "code",
      "metadata": {
        "colab": {
          "base_uri": "https://localhost:8080/"
        },
        "id": "8nlLQpJncPuV",
        "outputId": "b9369b29-c297-4020-839b-df1e7d41f46d"
      },
      "source": [
        "import pandas as pd\n",
        "import json\n",
        "import numpy as np\n",
        "import os\n",
        "import matplotlib.pyplot as plt\n",
        "import seaborn as sns\n",
        "import re\n",
        "import string\n",
        "import time\n",
        "from sklearn.model_selection import train_test_split\n",
        "from nltk.corpus import stopwords\n",
        "from sklearn.feature_extraction.text import CountVectorizer, TfidfVectorizer\n",
        "from sklearn.linear_model import LogisticRegression\n",
        "from sklearn import metrics\n",
        "from nltk.stem import PorterStemmer\n",
        "import nltk\n",
        "from nltk import word_tokenize\n",
        "nltk.download('stopwords')\n",
        "nltk.download('punkt')\n",
        "nltk.download('wordnet')\n",
        "nltk.download('rslp')\n",
        "import unidecode\n",
        "import pickle"
      ],
      "execution_count": 3,
      "outputs": [
        {
          "output_type": "stream",
          "name": "stderr",
          "text": [
            "[nltk_data] Downloading package stopwords to /root/nltk_data...\n",
            "[nltk_data]   Unzipping corpora/stopwords.zip.\n",
            "[nltk_data] Downloading package punkt to /root/nltk_data...\n",
            "[nltk_data]   Unzipping tokenizers/punkt.zip.\n",
            "[nltk_data] Downloading package wordnet to /root/nltk_data...\n",
            "[nltk_data] Downloading package rslp to /root/nltk_data...\n",
            "[nltk_data]   Unzipping stemmers/rslp.zip.\n"
          ]
        }
      ]
    },
    {
      "cell_type": "markdown",
      "metadata": {
        "id": "k88e9t98ce8E"
      },
      "source": [
        "#### Acessando o google drive e abrindo o dataset da b2w\n"
      ]
    },
    {
      "cell_type": "code",
      "metadata": {
        "colab": {
          "base_uri": "https://localhost:8080/"
        },
        "id": "7WF03xp_BXop",
        "outputId": "f8212d46-1f88-4520-a0ec-fd246bdea9d9"
      },
      "source": [
        "from google.colab import drive \n",
        "drive.mount('/gdrive')"
      ],
      "execution_count": 4,
      "outputs": [
        {
          "output_type": "stream",
          "name": "stdout",
          "text": [
            "Mounted at /gdrive\n"
          ]
        }
      ]
    },
    {
      "cell_type": "code",
      "metadata": {
        "id": "RycITrUMBs3S"
      },
      "source": [
        "df_reviews = pd.read_csv(r'/gdrive/My Drive/Análise de Sentimentos/B2W-Reviews01.csv',sep=';')"
      ],
      "execution_count": 5,
      "outputs": []
    },
    {
      "cell_type": "code",
      "metadata": {
        "id": "R0PzlObzKm2f"
      },
      "source": [
        ""
      ],
      "execution_count": 5,
      "outputs": []
    },
    {
      "cell_type": "markdown",
      "metadata": {
        "id": "z1p46K003iJH"
      },
      "source": [
        "#### Tirando as avaliações neutras do dataset (3 estrelas)."
      ]
    },
    {
      "cell_type": "code",
      "metadata": {
        "id": "kJozdaYZ_0V3"
      },
      "source": [
        "df_reviews = df_reviews.drop(df_reviews[df_reviews.overall_rating == 3].index)"
      ],
      "execution_count": 6,
      "outputs": []
    },
    {
      "cell_type": "markdown",
      "metadata": {
        "id": "_rY5yQoL3pn-"
      },
      "source": [
        "#### Checando a distribuição do dataset: Será nencessário balancear. \n",
        "\n",
        "#### As avaliações com 1 e 2 estrelas serão definidas como negativas (0) e as avaliações dom 4 e 5 estrealas serão definidas como positivas (1)."
      ]
    },
    {
      "cell_type": "code",
      "metadata": {
        "colab": {
          "base_uri": "https://localhost:8080/"
        },
        "id": "n_tYtP67He3J",
        "outputId": "c49d5d7f-e210-4653-c152-9c1d3c6e7b2a"
      },
      "source": [
        "df_reviews.overall_rating.value_counts()"
      ],
      "execution_count": 7,
      "outputs": [
        {
          "output_type": "execute_result",
          "data": {
            "text/plain": [
              "5.0    47971\n",
              "4.0    32345\n",
              "1.0    27371\n",
              "2.0     8389\n",
              "Name: overall_rating, dtype: int64"
            ]
          },
          "metadata": {},
          "execution_count": 7
        }
      ]
    },
    {
      "cell_type": "code",
      "metadata": {
        "id": "kviRguki-Zcc"
      },
      "source": [
        "df_reviews['overall_rating'].replace([1,2], 0, inplace=True)\n",
        "df_reviews['overall_rating'].replace([4,5], 1,inplace=True)"
      ],
      "execution_count": 8,
      "outputs": []
    },
    {
      "cell_type": "code",
      "metadata": {
        "colab": {
          "base_uri": "https://localhost:8080/"
        },
        "id": "s1PU_E-TMVpu",
        "outputId": "b454b17d-d205-4947-df90-c585169cf5ef"
      },
      "source": [
        "df_reviews.overall_rating.value_counts()"
      ],
      "execution_count": 9,
      "outputs": [
        {
          "output_type": "execute_result",
          "data": {
            "text/plain": [
              "1.0    80316\n",
              "0.0    35760\n",
              "Name: overall_rating, dtype: int64"
            ]
          },
          "metadata": {},
          "execution_count": 9
        }
      ]
    },
    {
      "cell_type": "code",
      "metadata": {
        "id": "ZvmVT1s_QJdu"
      },
      "source": [
        "#df_reviews = df_reviews[df_reviews['review_text'].str.len()<1000]"
      ],
      "execution_count": 10,
      "outputs": []
    },
    {
      "cell_type": "code",
      "metadata": {
        "id": "sEI_CE3OluKn"
      },
      "source": [
        "df_reviews_positive = df_reviews[df_reviews['overall_rating'] == 1].sample(frac=0.44)\n",
        "#df_reviews_positive = df_reviews[df_reviews['overall_rating'] == 1].sample(n=df_reviews[df_reviews['overall_rating'] == 0].count()[0]#)\n",
        "#df_reviews_negative = df_reviews[df_reviews['overall_rating'] == 0].sample(n=df_reviews[df_reviews['overall_rating'] == 0].count()[0])"
      ],
      "execution_count": 11,
      "outputs": []
    },
    {
      "cell_type": "code",
      "metadata": {
        "id": "iFllu6RvmZDk"
      },
      "source": [
        "df_reviews_negative = df_reviews[df_reviews['overall_rating'] == 0]"
      ],
      "execution_count": 12,
      "outputs": []
    },
    {
      "cell_type": "code",
      "metadata": {
        "id": "K_0Zz7ydmfGD"
      },
      "source": [
        "df_reviews = pd.concat([df_reviews_positive,df_reviews_negative], ignore_index=True)"
      ],
      "execution_count": 13,
      "outputs": []
    },
    {
      "cell_type": "markdown",
      "metadata": {
        "id": "FgDCdXyddXQu"
      },
      "source": [
        "#### A coluna *review_text* é renomeada para *text* e a coluna *overall_ratings* para *labels*."
      ]
    },
    {
      "cell_type": "code",
      "metadata": {
        "colab": {
          "base_uri": "https://localhost:8080/",
          "height": 424
        },
        "id": "YHgPCq2DBxBU",
        "outputId": "c2f60372-cd52-4f21-b7a7-0915f52f9b92"
      },
      "source": [
        "df_reviews.rename(columns={'review_text':'text','overall_rating':'labels'},inplace=True)\n",
        "df_reviews"
      ],
      "execution_count": 14,
      "outputs": [
        {
          "output_type": "execute_result",
          "data": {
            "text/plain": [
              "       labels                                               text\n",
              "0         1.0  Excelente. Recomendo a compra. Imagem sensacio...\n",
              "1         1.0  Produto Excelente. Comprem sem medo. Entrega g...\n",
              "2         1.0  Nossa, eu adorei o produto, muito bom câmera m...\n",
              "3         1.0  Kit excelente! Potente. Dobravel. Nao ocupa es...\n",
              "4         1.0  Entrega rápida.  Celular bonito,  cheio de apl...\n",
              "...       ...                                                ...\n",
              "71094     0.0  O produto não tem uma trava para a tampa, quan...\n",
              "71095     0.0  O travesseiro quando colocamos a cabeça, ele f...\n",
              "71096     0.0  Infelizmente o Netflix não funciona e esse era...\n",
              "71097     0.0  Material fraco, poderia ser melhor. Ficou deve...\n",
              "71098     0.0  Comprei esse produto, quando chegou estava com...\n",
              "\n",
              "[71099 rows x 2 columns]"
            ],
            "text/html": [
              "\n",
              "  <div id=\"df-d62e97f2-9ac8-4858-bf63-3ce9c31f9c6e\">\n",
              "    <div class=\"colab-df-container\">\n",
              "      <div>\n",
              "<style scoped>\n",
              "    .dataframe tbody tr th:only-of-type {\n",
              "        vertical-align: middle;\n",
              "    }\n",
              "\n",
              "    .dataframe tbody tr th {\n",
              "        vertical-align: top;\n",
              "    }\n",
              "\n",
              "    .dataframe thead th {\n",
              "        text-align: right;\n",
              "    }\n",
              "</style>\n",
              "<table border=\"1\" class=\"dataframe\">\n",
              "  <thead>\n",
              "    <tr style=\"text-align: right;\">\n",
              "      <th></th>\n",
              "      <th>labels</th>\n",
              "      <th>text</th>\n",
              "    </tr>\n",
              "  </thead>\n",
              "  <tbody>\n",
              "    <tr>\n",
              "      <th>0</th>\n",
              "      <td>1.0</td>\n",
              "      <td>Excelente. Recomendo a compra. Imagem sensacio...</td>\n",
              "    </tr>\n",
              "    <tr>\n",
              "      <th>1</th>\n",
              "      <td>1.0</td>\n",
              "      <td>Produto Excelente. Comprem sem medo. Entrega g...</td>\n",
              "    </tr>\n",
              "    <tr>\n",
              "      <th>2</th>\n",
              "      <td>1.0</td>\n",
              "      <td>Nossa, eu adorei o produto, muito bom câmera m...</td>\n",
              "    </tr>\n",
              "    <tr>\n",
              "      <th>3</th>\n",
              "      <td>1.0</td>\n",
              "      <td>Kit excelente! Potente. Dobravel. Nao ocupa es...</td>\n",
              "    </tr>\n",
              "    <tr>\n",
              "      <th>4</th>\n",
              "      <td>1.0</td>\n",
              "      <td>Entrega rápida.  Celular bonito,  cheio de apl...</td>\n",
              "    </tr>\n",
              "    <tr>\n",
              "      <th>...</th>\n",
              "      <td>...</td>\n",
              "      <td>...</td>\n",
              "    </tr>\n",
              "    <tr>\n",
              "      <th>71094</th>\n",
              "      <td>0.0</td>\n",
              "      <td>O produto não tem uma trava para a tampa, quan...</td>\n",
              "    </tr>\n",
              "    <tr>\n",
              "      <th>71095</th>\n",
              "      <td>0.0</td>\n",
              "      <td>O travesseiro quando colocamos a cabeça, ele f...</td>\n",
              "    </tr>\n",
              "    <tr>\n",
              "      <th>71096</th>\n",
              "      <td>0.0</td>\n",
              "      <td>Infelizmente o Netflix não funciona e esse era...</td>\n",
              "    </tr>\n",
              "    <tr>\n",
              "      <th>71097</th>\n",
              "      <td>0.0</td>\n",
              "      <td>Material fraco, poderia ser melhor. Ficou deve...</td>\n",
              "    </tr>\n",
              "    <tr>\n",
              "      <th>71098</th>\n",
              "      <td>0.0</td>\n",
              "      <td>Comprei esse produto, quando chegou estava com...</td>\n",
              "    </tr>\n",
              "  </tbody>\n",
              "</table>\n",
              "<p>71099 rows × 2 columns</p>\n",
              "</div>\n",
              "      <button class=\"colab-df-convert\" onclick=\"convertToInteractive('df-d62e97f2-9ac8-4858-bf63-3ce9c31f9c6e')\"\n",
              "              title=\"Convert this dataframe to an interactive table.\"\n",
              "              style=\"display:none;\">\n",
              "        \n",
              "  <svg xmlns=\"http://www.w3.org/2000/svg\" height=\"24px\"viewBox=\"0 0 24 24\"\n",
              "       width=\"24px\">\n",
              "    <path d=\"M0 0h24v24H0V0z\" fill=\"none\"/>\n",
              "    <path d=\"M18.56 5.44l.94 2.06.94-2.06 2.06-.94-2.06-.94-.94-2.06-.94 2.06-2.06.94zm-11 1L8.5 8.5l.94-2.06 2.06-.94-2.06-.94L8.5 2.5l-.94 2.06-2.06.94zm10 10l.94 2.06.94-2.06 2.06-.94-2.06-.94-.94-2.06-.94 2.06-2.06.94z\"/><path d=\"M17.41 7.96l-1.37-1.37c-.4-.4-.92-.59-1.43-.59-.52 0-1.04.2-1.43.59L10.3 9.45l-7.72 7.72c-.78.78-.78 2.05 0 2.83L4 21.41c.39.39.9.59 1.41.59.51 0 1.02-.2 1.41-.59l7.78-7.78 2.81-2.81c.8-.78.8-2.07 0-2.86zM5.41 20L4 18.59l7.72-7.72 1.47 1.35L5.41 20z\"/>\n",
              "  </svg>\n",
              "      </button>\n",
              "      \n",
              "  <style>\n",
              "    .colab-df-container {\n",
              "      display:flex;\n",
              "      flex-wrap:wrap;\n",
              "      gap: 12px;\n",
              "    }\n",
              "\n",
              "    .colab-df-convert {\n",
              "      background-color: #E8F0FE;\n",
              "      border: none;\n",
              "      border-radius: 50%;\n",
              "      cursor: pointer;\n",
              "      display: none;\n",
              "      fill: #1967D2;\n",
              "      height: 32px;\n",
              "      padding: 0 0 0 0;\n",
              "      width: 32px;\n",
              "    }\n",
              "\n",
              "    .colab-df-convert:hover {\n",
              "      background-color: #E2EBFA;\n",
              "      box-shadow: 0px 1px 2px rgba(60, 64, 67, 0.3), 0px 1px 3px 1px rgba(60, 64, 67, 0.15);\n",
              "      fill: #174EA6;\n",
              "    }\n",
              "\n",
              "    [theme=dark] .colab-df-convert {\n",
              "      background-color: #3B4455;\n",
              "      fill: #D2E3FC;\n",
              "    }\n",
              "\n",
              "    [theme=dark] .colab-df-convert:hover {\n",
              "      background-color: #434B5C;\n",
              "      box-shadow: 0px 1px 3px 1px rgba(0, 0, 0, 0.15);\n",
              "      filter: drop-shadow(0px 1px 2px rgba(0, 0, 0, 0.3));\n",
              "      fill: #FFFFFF;\n",
              "    }\n",
              "  </style>\n",
              "\n",
              "      <script>\n",
              "        const buttonEl =\n",
              "          document.querySelector('#df-d62e97f2-9ac8-4858-bf63-3ce9c31f9c6e button.colab-df-convert');\n",
              "        buttonEl.style.display =\n",
              "          google.colab.kernel.accessAllowed ? 'block' : 'none';\n",
              "\n",
              "        async function convertToInteractive(key) {\n",
              "          const element = document.querySelector('#df-d62e97f2-9ac8-4858-bf63-3ce9c31f9c6e');\n",
              "          const dataTable =\n",
              "            await google.colab.kernel.invokeFunction('convertToInteractive',\n",
              "                                                     [key], {});\n",
              "          if (!dataTable) return;\n",
              "\n",
              "          const docLinkHtml = 'Like what you see? Visit the ' +\n",
              "            '<a target=\"_blank\" href=https://colab.research.google.com/notebooks/data_table.ipynb>data table notebook</a>'\n",
              "            + ' to learn more about interactive tables.';\n",
              "          element.innerHTML = '';\n",
              "          dataTable['output_type'] = 'display_data';\n",
              "          await google.colab.output.renderOutput(dataTable, element);\n",
              "          const docLink = document.createElement('div');\n",
              "          docLink.innerHTML = docLinkHtml;\n",
              "          element.appendChild(docLink);\n",
              "        }\n",
              "      </script>\n",
              "    </div>\n",
              "  </div>\n",
              "  "
            ]
          },
          "metadata": {},
          "execution_count": 14
        }
      ]
    },
    {
      "cell_type": "code",
      "metadata": {
        "id": "FuURcAOKPPOL"
      },
      "source": [
        ""
      ],
      "execution_count": 14,
      "outputs": []
    },
    {
      "cell_type": "markdown",
      "metadata": {
        "id": "zvpwTrogeLiQ"
      },
      "source": [
        "#### Agora, checa-se a distribuição do dataset, sendo importante que esteja balanceado."
      ]
    },
    {
      "cell_type": "code",
      "metadata": {
        "colab": {
          "base_uri": "https://localhost:8080/",
          "height": 467
        },
        "id": "tzvWs7v3CnD5",
        "outputId": "72c86690-19b8-4cdd-ed69-b0bd95696b41"
      },
      "source": [
        "label_count = df_reviews['labels'].value_counts()\n",
        "label_count = label_count.sort_index()\n",
        "\n",
        "fig = plt.figure(figsize=(6, 6))\n",
        "ax = sns.barplot(label_count.index, label_count.values)\n",
        "plt.title(\"Distribuição de Reviews\",fontsize = 20)\n",
        "plt.ylabel('Número de Reviews', fontsize = 12)\n",
        "plt.xlabel('Avaliação', fontsize = 12);"
      ],
      "execution_count": 15,
      "outputs": [
        {
          "output_type": "stream",
          "name": "stderr",
          "text": [
            "/usr/local/lib/python3.7/dist-packages/seaborn/_decorators.py:43: FutureWarning: Pass the following variables as keyword args: x, y. From version 0.12, the only valid positional argument will be `data`, and passing other arguments without an explicit keyword will result in an error or misinterpretation.\n",
            "  FutureWarning\n"
          ]
        },
        {
          "output_type": "display_data",
          "data": {
            "text/plain": [
              "<Figure size 432x432 with 1 Axes>"
            ],
            "image/png": "[encoded data removed]"
          },
          "metadata": {
            "needs_background": "light"
          }
        }
      ]
    },
    {
      "cell_type": "markdown",
      "metadata": {
        "id": "b-F4BWvr45fb"
      },
      "source": [
        "#### Agora, são removidos os caracteres especiais, acentos, stopwords.\n",
        "#### As sentenças também são convertidas para letra minúscula.\n",
        "#### A função pre_processor faz todo esse trabalho, e será passada na vetorização do texto."
      ]
    },
    {
      "cell_type": "code",
      "metadata": {
        "id": "jLM8QF0d1tBv",
        "cellView": "form"
      },
      "source": [
        "#@title Lista de Stopwords, o código está oculto por causa do tamanho.\n",
        "stop_words = {'a',\n",
        " 'ao',\n",
        " 'aos',\n",
        " 'aquela',\n",
        " 'aquelas',\n",
        " 'aquele',\n",
        " 'aqueles',\n",
        " 'aquilo',\n",
        " 'as',\n",
        " 'até',\n",
        " 'com',\n",
        " 'como',\n",
        " 'da',\n",
        " 'das',\n",
        " 'de',\n",
        " 'dela',\n",
        " 'delas',\n",
        " 'dele',\n",
        " 'deles',\n",
        " 'depois',\n",
        " 'do',\n",
        " 'dos',\n",
        " 'e',\n",
        " 'ela',\n",
        " 'elas',\n",
        " 'ele',\n",
        " 'eles',\n",
        " 'em',\n",
        " 'entre',\n",
        " 'era',\n",
        " 'eram',\n",
        " 'essa',\n",
        " 'essas',\n",
        " 'esse',\n",
        " 'esses',\n",
        " 'esta',\n",
        " 'estamos',\n",
        " 'estas',\n",
        " 'estava',\n",
        " 'estavam',\n",
        " 'este',\n",
        " 'esteja',\n",
        " 'estejam',\n",
        " 'estejamos',\n",
        " 'estes',\n",
        " 'esteve',\n",
        " 'estive',\n",
        " 'estivemos',\n",
        " 'estiver',\n",
        " 'estivera',\n",
        " 'estiveram',\n",
        " 'estiverem',\n",
        " 'estivermos',\n",
        " 'estivesse',\n",
        " 'estivessem',\n",
        " 'estivéramos',\n",
        " 'estivéssemos',\n",
        " 'estou',\n",
        " 'está',\n",
        " 'estávamos',\n",
        " 'estão',\n",
        " 'eu',\n",
        " 'foi',\n",
        " 'fomos',\n",
        " 'for',\n",
        " 'fora',\n",
        " 'foram',\n",
        " 'forem',\n",
        " 'formos',\n",
        " 'fosse',\n",
        " 'fossem',\n",
        " 'fui',\n",
        " 'fôramos',\n",
        " 'fôssemos',\n",
        " 'haja',\n",
        " 'hajam',\n",
        " 'hajamos',\n",
        " 'havemos',\n",
        " 'hei',\n",
        " 'houve',\n",
        " 'houvemos',\n",
        " 'houver',\n",
        " 'houvera',\n",
        " 'houveram',\n",
        " 'houverei',\n",
        " 'houverem',\n",
        " 'houveremos',\n",
        " 'houveria',\n",
        " 'houveriam',\n",
        " 'houvermos',\n",
        " 'houverá',\n",
        " 'houverão',\n",
        " 'houveríamos',\n",
        " 'houvesse',\n",
        " 'houvessem',\n",
        " 'houvéramos',\n",
        " 'houvéssemos',\n",
        " 'há',\n",
        " 'hão',\n",
        " 'isso',\n",
        " 'isto',\n",
        " 'já',\n",
        " 'lhe',\n",
        " 'lhes',\n",
        " 'mais',\n",
        " 'mas',\n",
        " 'me',\n",
        " 'mesmo',\n",
        " 'meu',\n",
        " 'meus',\n",
        " 'minha',\n",
        " 'minhas',\n",
        " 'muito',\n",
        " 'na',\n",
        " 'nas',\n",
        " 'nem',\n",
        " 'no',\n",
        " 'nos',\n",
        " 'nossa',\n",
        " 'nossas',\n",
        " 'nosso',\n",
        " 'nossos',\n",
        " 'num',\n",
        " 'numa',\n",
        " 'nós',\n",
        " 'o',\n",
        " 'os',\n",
        " 'ou',\n",
        " 'para',\n",
        " 'pela',\n",
        " 'pelas',\n",
        " 'pelo',\n",
        " 'pelos',\n",
        " 'por',\n",
        " 'qual',\n",
        " 'quando',\n",
        " 'que',\n",
        " 'quem',\n",
        " 'se',\n",
        " 'seja',\n",
        " 'sejam',\n",
        " 'sejamos',\n",
        " 'sem',\n",
        " 'serei',\n",
        " 'seremos',\n",
        " 'seria',\n",
        " 'seriam',\n",
        " 'será',\n",
        " 'serão',\n",
        " 'seríamos',\n",
        " 'seu',\n",
        " 'seus',\n",
        " 'somos',\n",
        " 'sou',\n",
        " 'sua',\n",
        " 'suas',\n",
        " 'são',\n",
        " 'só',\n",
        " 'também',\n",
        " 'te',\n",
        " 'tem',\n",
        " 'temos',\n",
        " 'tenha',\n",
        " 'tenham',\n",
        " 'tenhamos',\n",
        " 'tenho',\n",
        " 'terei',\n",
        " 'teremos',\n",
        " 'teria',\n",
        " 'teriam',\n",
        " 'terá',\n",
        " 'terão',\n",
        " 'teríamos',\n",
        " 'teu',\n",
        " 'teus',\n",
        " 'teve',\n",
        " 'tinha',\n",
        " 'tinham',\n",
        " 'tive',\n",
        " 'tivemos',\n",
        " 'tiver',\n",
        " 'tivera',\n",
        " 'tiveram',\n",
        " 'tiverem',\n",
        " 'tivermos',\n",
        " 'tivesse',\n",
        " 'tivessem',\n",
        " 'tivéramos',\n",
        " 'tivéssemos',\n",
        " 'tu',\n",
        " 'tua',\n",
        " 'tuas',\n",
        " 'tém',\n",
        " 'tínhamos',\n",
        " 'um',\n",
        " 'uma',\n",
        " 'você',\n",
        " 'vocês',\n",
        " 'vos',\n",
        " 'à',\n",
        " 'às',\n",
        " 'é',\n",
        " 'éramos',\n",
        " 'acha'\n",
        " 'pensa'\n",
        " 'acho',\n",
        " 'penso',\n",
        " 'achei',\n",
        " 'imagino',\n",
        " 'pensei',\n",
        " 'imaginei',\n",
        " 'achava',\n",
        " 'pensava'\n",
        " }"
      ],
      "execution_count": 16,
      "outputs": []
    },
    {
      "cell_type": "code",
      "metadata": {
        "id": "fWmlCMSoWThB"
      },
      "source": [
        "def pre_processor(text):\n",
        "  text = text.lower()\n",
        "  stemmer = nltk.stem.RSLPStemmer()\n",
        "  lemmatizer = nltk.stem.WordNetLemmatizer()\n",
        "  tokenized = word_tokenize(text)\n",
        "  filtered_sentence = [word for word in tokenized if word not in stop_words ]\n",
        "  return ' '.join(c for c in filtered_sentence if c.isalpha())\n",
        "\n",
        "\n",
        "  #def tokenize_data(dataset):\n",
        "   # tokenizer = nltk.tokenize.TreebankWordTokenizer()\n",
        "    #for i in range(dataset.shape[0]):\n",
        "     #  dataset[\"reviews\"][i] = tokenizer.tokenize(dataset[\"reviews\"][i])\n",
        "    #return dataset\n",
        "\n",
        "    #def normalize(dataset):\n",
        "    #lemmatizer = nltk.stem.WordNetLemmatizer()\n",
        "    #for i in range(dataset.shape[0]):\n",
        "    #    dataset.reviews[i] = \" \".join([lemmatizer.lemmatize(token) for token in dataset.reviews[i]]).strip()\n",
        "    #return dataset"
      ],
      "execution_count": 17,
      "outputs": []
    },
    {
      "cell_type": "markdown",
      "metadata": {
        "id": "4lpWb-ISeuk0"
      },
      "source": [
        "#### Agora é feita a divisão do dataset em treino (70%) e teste(30%)."
      ]
    },
    {
      "cell_type": "code",
      "metadata": {
        "id": "EI7ld_w2DETT"
      },
      "source": [
        "train, test = train_test_split(df_reviews, test_size = 0.2, stratify = df_reviews['labels'], random_state = 42)"
      ],
      "execution_count": 18,
      "outputs": []
    },
    {
      "cell_type": "code",
      "metadata": {
        "id": "ya6NA5HI79Nq"
      },
      "source": [
        "dataset_de_ajuste = pd.read_csv(r'/gdrive/My Drive/Análise de Sentimentos/dataset_ajuste_v4_binario.csv',sep=';', encoding='latin-1')\n",
        "#train  = pd.concat([train,dataset_de_ajuste], ignore_index=True)"
      ],
      "execution_count": 19,
      "outputs": []
    },
    {
      "cell_type": "code",
      "metadata": {
        "colab": {
          "base_uri": "https://localhost:8080/",
          "height": 424
        },
        "id": "Oq-BsU4JECdc",
        "outputId": "4fbc0cc6-0fd6-4770-a71e-4a69aea95279"
      },
      "source": [
        "dataset_de_ajuste"
      ],
      "execution_count": 20,
      "outputs": [
        {
          "output_type": "execute_result",
          "data": {
            "text/plain": [
              "     ï»¿labels                                               text\n",
              "0            1                      Excelente empresa!! Redonda!!\n",
              "1            1  GestÃ£o excepcional de todo o Grupo. Esta apen...\n",
              "2            1  Acredito nela, Ã³timosÂ indicadores e excelent...\n",
              "3            1  Ã³tima empresa, os gestores tem visÃ£o, sempre...\n",
              "4            1  Excelente empresa, excelente case, Ã³timo para...\n",
              "..         ...                                                ...\n",
              "672          0                                        LIXO DO CRL\n",
              "673          0  ela esta fazendo isso para aparecer Nao e gay ...\n",
              "674          0  Volta pra jaula sua macaca vou pegar meu xicot...\n",
              "675          0  Achei que a macaca vivia apenas na floresta ou...\n",
              "676          0  Espera essa neve derreter e usa ela pra lavar ...\n",
              "\n",
              "[677 rows x 2 columns]"
            ],
            "text/html": [
              "\n",
              "  <div id=\"df-c8ea13b7-8aaf-42ed-9168-3c2fecffa792\">\n",
              "    <div class=\"colab-df-container\">\n",
              "      <div>\n",
              "<style scoped>\n",
              "    .dataframe tbody tr th:only-of-type {\n",
              "        vertical-align: middle;\n",
              "    }\n",
              "\n",
              "    .dataframe tbody tr th {\n",
              "        vertical-align: top;\n",
              "    }\n",
              "\n",
              "    .dataframe thead th {\n",
              "        text-align: right;\n",
              "    }\n",
              "</style>\n",
              "<table border=\"1\" class=\"dataframe\">\n",
              "  <thead>\n",
              "    <tr style=\"text-align: right;\">\n",
              "      <th></th>\n",
              "      <th>ï»¿labels</th>\n",
              "      <th>text</th>\n",
              "    </tr>\n",
              "  </thead>\n",
              "  <tbody>\n",
              "    <tr>\n",
              "      <th>0</th>\n",
              "      <td>1</td>\n",
              "      <td>Excelente empresa!! Redonda!!</td>\n",
              "    </tr>\n",
              "    <tr>\n",
              "      <th>1</th>\n",
              "      <td>1</td>\n",
              "      <td>GestÃ£o excepcional de todo o Grupo. Esta apen...</td>\n",
              "    </tr>\n",
              "    <tr>\n",
              "      <th>2</th>\n",
              "      <td>1</td>\n",
              "      <td>Acredito nela, Ã³timosÂ indicadores e excelent...</td>\n",
              "    </tr>\n",
              "    <tr>\n",
              "      <th>3</th>\n",
              "      <td>1</td>\n",
              "      <td>Ã³tima empresa, os gestores tem visÃ£o, sempre...</td>\n",
              "    </tr>\n",
              "    <tr>\n",
              "      <th>4</th>\n",
              "      <td>1</td>\n",
              "      <td>Excelente empresa, excelente case, Ã³timo para...</td>\n",
              "    </tr>\n",
              "    <tr>\n",
              "      <th>...</th>\n",
              "      <td>...</td>\n",
              "      <td>...</td>\n",
              "    </tr>\n",
              "    <tr>\n",
              "      <th>672</th>\n",
              "      <td>0</td>\n",
              "      <td>LIXO DO CRL</td>\n",
              "    </tr>\n",
              "    <tr>\n",
              "      <th>673</th>\n",
              "      <td>0</td>\n",
              "      <td>ela esta fazendo isso para aparecer Nao e gay ...</td>\n",
              "    </tr>\n",
              "    <tr>\n",
              "      <th>674</th>\n",
              "      <td>0</td>\n",
              "      <td>Volta pra jaula sua macaca vou pegar meu xicot...</td>\n",
              "    </tr>\n",
              "    <tr>\n",
              "      <th>675</th>\n",
              "      <td>0</td>\n",
              "      <td>Achei que a macaca vivia apenas na floresta ou...</td>\n",
              "    </tr>\n",
              "    <tr>\n",
              "      <th>676</th>\n",
              "      <td>0</td>\n",
              "      <td>Espera essa neve derreter e usa ela pra lavar ...</td>\n",
              "    </tr>\n",
              "  </tbody>\n",
              "</table>\n",
              "<p>677 rows × 2 columns</p>\n",
              "</div>\n",
              "      <button class=\"colab-df-convert\" onclick=\"convertToInteractive('df-c8ea13b7-8aaf-42ed-9168-3c2fecffa792')\"\n",
              "              title=\"Convert this dataframe to an interactive table.\"\n",
              "              style=\"display:none;\">\n",
              "        \n",
              "  <svg xmlns=\"http://www.w3.org/2000/svg\" height=\"24px\"viewBox=\"0 0 24 24\"\n",
              "       width=\"24px\">\n",
              "    <path d=\"M0 0h24v24H0V0z\" fill=\"none\"/>\n",
              "    <path d=\"M18.56 5.44l.94 2.06.94-2.06 2.06-.94-2.06-.94-.94-2.06-.94 2.06-2.06.94zm-11 1L8.5 8.5l.94-2.06 2.06-.94-2.06-.94L8.5 2.5l-.94 2.06-2.06.94zm10 10l.94 2.06.94-2.06 2.06-.94-2.06-.94-.94-2.06-.94 2.06-2.06.94z\"/><path d=\"M17.41 7.96l-1.37-1.37c-.4-.4-.92-.59-1.43-.59-.52 0-1.04.2-1.43.59L10.3 9.45l-7.72 7.72c-.78.78-.78 2.05 0 2.83L4 21.41c.39.39.9.59 1.41.59.51 0 1.02-.2 1.41-.59l7.78-7.78 2.81-2.81c.8-.78.8-2.07 0-2.86zM5.41 20L4 18.59l7.72-7.72 1.47 1.35L5.41 20z\"/>\n",
              "  </svg>\n",
              "      </button>\n",
              "      \n",
              "  <style>\n",
              "    .colab-df-container {\n",
              "      display:flex;\n",
              "      flex-wrap:wrap;\n",
              "      gap: 12px;\n",
              "    }\n",
              "\n",
              "    .colab-df-convert {\n",
              "      background-color: #E8F0FE;\n",
              "      border: none;\n",
              "      border-radius: 50%;\n",
              "      cursor: pointer;\n",
              "      display: none;\n",
              "      fill: #1967D2;\n",
              "      height: 32px;\n",
              "      padding: 0 0 0 0;\n",
              "      width: 32px;\n",
              "    }\n",
              "\n",
              "    .colab-df-convert:hover {\n",
              "      background-color: #E2EBFA;\n",
              "      box-shadow: 0px 1px 2px rgba(60, 64, 67, 0.3), 0px 1px 3px 1px rgba(60, 64, 67, 0.15);\n",
              "      fill: #174EA6;\n",
              "    }\n",
              "\n",
              "    [theme=dark] .colab-df-convert {\n",
              "      background-color: #3B4455;\n",
              "      fill: #D2E3FC;\n",
              "    }\n",
              "\n",
              "    [theme=dark] .colab-df-convert:hover {\n",
              "      background-color: #434B5C;\n",
              "      box-shadow: 0px 1px 3px 1px rgba(0, 0, 0, 0.15);\n",
              "      filter: drop-shadow(0px 1px 2px rgba(0, 0, 0, 0.3));\n",
              "      fill: #FFFFFF;\n",
              "    }\n",
              "  </style>\n",
              "\n",
              "      <script>\n",
              "        const buttonEl =\n",
              "          document.querySelector('#df-c8ea13b7-8aaf-42ed-9168-3c2fecffa792 button.colab-df-convert');\n",
              "        buttonEl.style.display =\n",
              "          google.colab.kernel.accessAllowed ? 'block' : 'none';\n",
              "\n",
              "        async function convertToInteractive(key) {\n",
              "          const element = document.querySelector('#df-c8ea13b7-8aaf-42ed-9168-3c2fecffa792');\n",
              "          const dataTable =\n",
              "            await google.colab.kernel.invokeFunction('convertToInteractive',\n",
              "                                                     [key], {});\n",
              "          if (!dataTable) return;\n",
              "\n",
              "          const docLinkHtml = 'Like what you see? Visit the ' +\n",
              "            '<a target=\"_blank\" href=https://colab.research.google.com/notebooks/data_table.ipynb>data table notebook</a>'\n",
              "            + ' to learn more about interactive tables.';\n",
              "          element.innerHTML = '';\n",
              "          dataTable['output_type'] = 'display_data';\n",
              "          await google.colab.output.renderOutput(dataTable, element);\n",
              "          const docLink = document.createElement('div');\n",
              "          docLink.innerHTML = docLinkHtml;\n",
              "          element.appendChild(docLink);\n",
              "        }\n",
              "      </script>\n",
              "    </div>\n",
              "  </div>\n",
              "  "
            ]
          },
          "metadata": {},
          "execution_count": 20
        }
      ]
    },
    {
      "cell_type": "code",
      "metadata": {
        "id": "3WjmG5RHYpoP",
        "colab": {
          "base_uri": "https://localhost:8080/"
        },
        "outputId": "38178810-e862-4ac4-8a5b-96b4e9205d17"
      },
      "source": [
        "train['text']= train['text'].apply(pre_processor)"
      ],
      "execution_count": 21,
      "outputs": [
        {
          "output_type": "stream",
          "name": "stderr",
          "text": [
            "/usr/local/lib/python3.7/dist-packages/ipykernel_launcher.py:1: SettingWithCopyWarning: \n",
            "A value is trying to be set on a copy of a slice from a DataFrame.\n",
            "Try using .loc[row_indexer,col_indexer] = value instead\n",
            "\n",
            "See the caveats in the documentation: https://pandas.pydata.org/pandas-docs/stable/user_guide/indexing.html#returning-a-view-versus-a-copy\n",
            "  \"\"\"Entry point for launching an IPython kernel.\n"
          ]
        }
      ]
    },
    {
      "cell_type": "markdown",
      "metadata": {
        "id": "FAAgZLUQhqpA"
      },
      "source": [
        "#### Para que o algorítimo consiga processar o texto, é necessário convertê-lo em vetores.\n",
        "\n",
        "#### Também são considerados binagramas (sequeência de duas palavras)."
      ]
    },
    {
      "cell_type": "code",
      "metadata": {
        "colab": {
          "base_uri": "https://localhost:8080/"
        },
        "id": "ki_HIpcwDEgu",
        "outputId": "041851f7-83ef-42c7-9efe-cde50e77b7a7"
      },
      "source": [
        "start_time = time.time()\n",
        "#cv = CountVectorizer(binary=True, ngram_range=(1,2), min_df = 10, preprocessor= pre_processor)\n",
        "cv = TfidfVectorizer(max_features=10000, preprocessor= pre_processor, ngram_range = (1,2))\n",
        "cv.fit(train['text'].values)\n",
        "train_feature_set=cv.transform(train['text'].values)\n",
        "test_feature_set=cv.transform(test['text'].values)\n",
        "print(\"Time takes to convert text input into feature vector: \", round((time.time() - start_time)/60, 2), \" mins\")"
      ],
      "execution_count": 22,
      "outputs": [
        {
          "output_type": "stream",
          "name": "stdout",
          "text": [
            "Time takes to convert text input into feature vector:  2.64  mins\n"
          ]
        }
      ]
    },
    {
      "cell_type": "code",
      "metadata": {
        "id": "LcQfFW3BPT8B",
        "colab": {
          "base_uri": "https://localhost:8080/",
          "height": 424
        },
        "outputId": "b4f0774e-8564-4cdc-9766-c84fe54beb8d"
      },
      "source": [
        "test"
      ],
      "execution_count": 23,
      "outputs": [
        {
          "output_type": "execute_result",
          "data": {
            "text/plain": [
              "       labels                                               text\n",
              "19748     1.0  Comprei o produto não esperando muito dele e s...\n",
              "8846      1.0  Cumpre o prometido, na primeira sessão e já te...\n",
              "21221     1.0  O liquidificador é lindo , muito bom , não é b...\n",
              "16195     1.0  Produto excelente, entrega antes da data previ...\n",
              "6988      1.0  É um ótimo monitor, uma boa relação custo/bene...\n",
              "...       ...                                                ...\n",
              "67571     0.0  eles gostam  mesmo e de encher os bolsos deles...\n",
              "2169      1.0  Produto de acordo com o oferecido, em cor e qu...\n",
              "17511     1.0  Bonitas, resistentes. Recomendo com certeza. E...\n",
              "17480     1.0  Produto completo de ótima qualidade. Superou m...\n",
              "67715     0.0  Este modelo de tv tem deficiência na distribui...\n",
              "\n",
              "[14220 rows x 2 columns]"
            ],
            "text/html": [
              "\n",
              "  <div id=\"df-628e6c5c-df6c-4469-bd6f-36ba3d60d19f\">\n",
              "    <div class=\"colab-df-container\">\n",
              "      <div>\n",
              "<style scoped>\n",
              "    .dataframe tbody tr th:only-of-type {\n",
              "        vertical-align: middle;\n",
              "    }\n",
              "\n",
              "    .dataframe tbody tr th {\n",
              "        vertical-align: top;\n",
              "    }\n",
              "\n",
              "    .dataframe thead th {\n",
              "        text-align: right;\n",
              "    }\n",
              "</style>\n",
              "<table border=\"1\" class=\"dataframe\">\n",
              "  <thead>\n",
              "    <tr style=\"text-align: right;\">\n",
              "      <th></th>\n",
              "      <th>labels</th>\n",
              "      <th>text</th>\n",
              "    </tr>\n",
              "  </thead>\n",
              "  <tbody>\n",
              "    <tr>\n",
              "      <th>19748</th>\n",
              "      <td>1.0</td>\n",
              "      <td>Comprei o produto não esperando muito dele e s...</td>\n",
              "    </tr>\n",
              "    <tr>\n",
              "      <th>8846</th>\n",
              "      <td>1.0</td>\n",
              "      <td>Cumpre o prometido, na primeira sessão e já te...</td>\n",
              "    </tr>\n",
              "    <tr>\n",
              "      <th>21221</th>\n",
              "      <td>1.0</td>\n",
              "      <td>O liquidificador é lindo , muito bom , não é b...</td>\n",
              "    </tr>\n",
              "    <tr>\n",
              "      <th>16195</th>\n",
              "      <td>1.0</td>\n",
              "      <td>Produto excelente, entrega antes da data previ...</td>\n",
              "    </tr>\n",
              "    <tr>\n",
              "      <th>6988</th>\n",
              "      <td>1.0</td>\n",
              "      <td>É um ótimo monitor, uma boa relação custo/bene...</td>\n",
              "    </tr>\n",
              "    <tr>\n",
              "      <th>...</th>\n",
              "      <td>...</td>\n",
              "      <td>...</td>\n",
              "    </tr>\n",
              "    <tr>\n",
              "      <th>67571</th>\n",
              "      <td>0.0</td>\n",
              "      <td>eles gostam  mesmo e de encher os bolsos deles...</td>\n",
              "    </tr>\n",
              "    <tr>\n",
              "      <th>2169</th>\n",
              "      <td>1.0</td>\n",
              "      <td>Produto de acordo com o oferecido, em cor e qu...</td>\n",
              "    </tr>\n",
              "    <tr>\n",
              "      <th>17511</th>\n",
              "      <td>1.0</td>\n",
              "      <td>Bonitas, resistentes. Recomendo com certeza. E...</td>\n",
              "    </tr>\n",
              "    <tr>\n",
              "      <th>17480</th>\n",
              "      <td>1.0</td>\n",
              "      <td>Produto completo de ótima qualidade. Superou m...</td>\n",
              "    </tr>\n",
              "    <tr>\n",
              "      <th>67715</th>\n",
              "      <td>0.0</td>\n",
              "      <td>Este modelo de tv tem deficiência na distribui...</td>\n",
              "    </tr>\n",
              "  </tbody>\n",
              "</table>\n",
              "<p>14220 rows × 2 columns</p>\n",
              "</div>\n",
              "      <button class=\"colab-df-convert\" onclick=\"convertToInteractive('df-628e6c5c-df6c-4469-bd6f-36ba3d60d19f')\"\n",
              "              title=\"Convert this dataframe to an interactive table.\"\n",
              "              style=\"display:none;\">\n",
              "        \n",
              "  <svg xmlns=\"http://www.w3.org/2000/svg\" height=\"24px\"viewBox=\"0 0 24 24\"\n",
              "       width=\"24px\">\n",
              "    <path d=\"M0 0h24v24H0V0z\" fill=\"none\"/>\n",
              "    <path d=\"M18.56 5.44l.94 2.06.94-2.06 2.06-.94-2.06-.94-.94-2.06-.94 2.06-2.06.94zm-11 1L8.5 8.5l.94-2.06 2.06-.94-2.06-.94L8.5 2.5l-.94 2.06-2.06.94zm10 10l.94 2.06.94-2.06 2.06-.94-2.06-.94-.94-2.06-.94 2.06-2.06.94z\"/><path d=\"M17.41 7.96l-1.37-1.37c-.4-.4-.92-.59-1.43-.59-.52 0-1.04.2-1.43.59L10.3 9.45l-7.72 7.72c-.78.78-.78 2.05 0 2.83L4 21.41c.39.39.9.59 1.41.59.51 0 1.02-.2 1.41-.59l7.78-7.78 2.81-2.81c.8-.78.8-2.07 0-2.86zM5.41 20L4 18.59l7.72-7.72 1.47 1.35L5.41 20z\"/>\n",
              "  </svg>\n",
              "      </button>\n",
              "      \n",
              "  <style>\n",
              "    .colab-df-container {\n",
              "      display:flex;\n",
              "      flex-wrap:wrap;\n",
              "      gap: 12px;\n",
              "    }\n",
              "\n",
              "    .colab-df-convert {\n",
              "      background-color: #E8F0FE;\n",
              "      border: none;\n",
              "      border-radius: 50%;\n",
              "      cursor: pointer;\n",
              "      display: none;\n",
              "      fill: #1967D2;\n",
              "      height: 32px;\n",
              "      padding: 0 0 0 0;\n",
              "      width: 32px;\n",
              "    }\n",
              "\n",
              "    .colab-df-convert:hover {\n",
              "      background-color: #E2EBFA;\n",
              "      box-shadow: 0px 1px 2px rgba(60, 64, 67, 0.3), 0px 1px 3px 1px rgba(60, 64, 67, 0.15);\n",
              "      fill: #174EA6;\n",
              "    }\n",
              "\n",
              "    [theme=dark] .colab-df-convert {\n",
              "      background-color: #3B4455;\n",
              "      fill: #D2E3FC;\n",
              "    }\n",
              "\n",
              "    [theme=dark] .colab-df-convert:hover {\n",
              "      background-color: #434B5C;\n",
              "      box-shadow: 0px 1px 3px 1px rgba(0, 0, 0, 0.15);\n",
              "      filter: drop-shadow(0px 1px 2px rgba(0, 0, 0, 0.3));\n",
              "      fill: #FFFFFF;\n",
              "    }\n",
              "  </style>\n",
              "\n",
              "      <script>\n",
              "        const buttonEl =\n",
              "          document.querySelector('#df-628e6c5c-df6c-4469-bd6f-36ba3d60d19f button.colab-df-convert');\n",
              "        buttonEl.style.display =\n",
              "          google.colab.kernel.accessAllowed ? 'block' : 'none';\n",
              "\n",
              "        async function convertToInteractive(key) {\n",
              "          const element = document.querySelector('#df-628e6c5c-df6c-4469-bd6f-36ba3d60d19f');\n",
              "          const dataTable =\n",
              "            await google.colab.kernel.invokeFunction('convertToInteractive',\n",
              "                                                     [key], {});\n",
              "          if (!dataTable) return;\n",
              "\n",
              "          const docLinkHtml = 'Like what you see? Visit the ' +\n",
              "            '<a target=\"_blank\" href=https://colab.research.google.com/notebooks/data_table.ipynb>data table notebook</a>'\n",
              "            + ' to learn more about interactive tables.';\n",
              "          element.innerHTML = '';\n",
              "          dataTable['output_type'] = 'display_data';\n",
              "          await google.colab.output.renderOutput(dataTable, element);\n",
              "          const docLink = document.createElement('div');\n",
              "          docLink.innerHTML = docLinkHtml;\n",
              "          element.appendChild(docLink);\n",
              "        }\n",
              "      </script>\n",
              "    </div>\n",
              "  </div>\n",
              "  "
            ]
          },
          "metadata": {},
          "execution_count": 23
        }
      ]
    },
    {
      "cell_type": "markdown",
      "metadata": {
        "id": "UlhbyUxtlPSa"
      },
      "source": [
        "#### Checando quantas palavras unicas existem no dataset de treino"
      ]
    },
    {
      "cell_type": "code",
      "metadata": {
        "colab": {
          "base_uri": "https://localhost:8080/"
        },
        "id": "aBwjRtAfDElV",
        "outputId": "1c0b2aa8-6fee-4759-aa45-25ec257e8d6a"
      },
      "source": [
        "train_feature_set.shape[1]"
      ],
      "execution_count": 24,
      "outputs": [
        {
          "output_type": "execute_result",
          "data": {
            "text/plain": [
              "10000"
            ]
          },
          "metadata": {},
          "execution_count": 24
        }
      ]
    },
    {
      "cell_type": "markdown",
      "metadata": {
        "id": "M1jDMwAIkdOA"
      },
      "source": [
        "#### Armazenando as labels de treino e teste.\n",
        "\n"
      ]
    },
    {
      "cell_type": "code",
      "metadata": {
        "id": "_67bXRYkDpxd"
      },
      "source": [
        "y_train = train['labels'].values\n",
        "y_test = test['labels'].values"
      ],
      "execution_count": 25,
      "outputs": []
    },
    {
      "cell_type": "markdown",
      "metadata": {
        "id": "4Xm92FFdIkRU"
      },
      "source": [
        "#### Validação cruzada do modelo"
      ]
    },
    {
      "cell_type": "code",
      "metadata": {
        "id": "ZenM7o3wHE6R"
      },
      "source": [
        "#from sklearn.model_selection import cross_val_score\n",
        "#kf = RepeatedKFold(n_splits=10, n_repeats=5, random_state=1)\n",
        "#val_scores = cross_val_score(lr, train_feature_set, y_train, cv=kf)\n",
        "#print('Acurácia nos k-folds:', val_scores)\n",
        "#print('Média: {:.3} | Desvio: {:.3}'.format(np.mean(val_scores), np.std(val_scores)))"
      ],
      "execution_count": 26,
      "outputs": []
    },
    {
      "cell_type": "markdown",
      "metadata": {
        "id": "2NGQ46kfmB6m"
      },
      "source": [
        "#### Ajustando o modelo de regressão logística, e calculando a Acurácia e o índice F1.\n",
        "\n",
        "#### A matriz de confusão também é mostrada."
      ]
    },
    {
      "cell_type": "code",
      "metadata": {
        "colab": {
          "base_uri": "https://localhost:8080/"
        },
        "id": "KWlorWBuDp61",
        "outputId": "ffe62c34-ab1b-48ae-a8c6-5b62557ba7a9"
      },
      "source": [
        "start_time = time.time()\n",
        "lr = LogisticRegression(solver = 'liblinear', random_state = 42, max_iter=1000)\n",
        "lr.fit(train_feature_set,y_train)\n",
        "y_pred = lr.predict(test_feature_set)\n",
        "print(\"Time takes to train model and make predictions: \", round((time.time() - start_time)/60, 2), \" mins\")"
      ],
      "execution_count": 27,
      "outputs": [
        {
          "output_type": "stream",
          "name": "stdout",
          "text": [
            "Time takes to train model and make predictions:  0.01  mins\n"
          ]
        }
      ]
    },
    {
      "cell_type": "code",
      "metadata": {
        "colab": {
          "base_uri": "https://localhost:8080/"
        },
        "id": "PWTYlzJDDp-t",
        "outputId": "09f54263-a8a5-41c7-f2db-2a1535dc41fa"
      },
      "source": [
        "print(\"Accuracy: \",round(metrics.accuracy_score(y_test,y_pred),3))\n",
        "print(\"F1: \",round(metrics.f1_score(y_test, y_pred),3))"
      ],
      "execution_count": 28,
      "outputs": [
        {
          "output_type": "stream",
          "name": "stdout",
          "text": [
            "Accuracy:  0.945\n",
            "F1:  0.944\n"
          ]
        }
      ]
    },
    {
      "cell_type": "code",
      "metadata": {
        "colab": {
          "base_uri": "https://localhost:8080/",
          "height": 295
        },
        "id": "nibAwSrkmZeR",
        "outputId": "026fc2e4-d155-4b58-fb6a-3d119d9d38fe"
      },
      "source": [
        "disp = metrics.plot_confusion_matrix(lr, test_feature_set, y_test,\n",
        "                                 display_labels=['Class 0', 'Class 1'],\n",
        "                                 cmap=plt.cm.Blues,\n",
        "                                 normalize='true')\n",
        "disp.ax_.set_title('Matriz de confusão da Regressão logística');"
      ],
      "execution_count": 29,
      "outputs": [
        {
          "output_type": "display_data",
          "data": {
            "text/plain": [
              "<Figure size 432x288 with 2 Axes>"
            ],
            "image/png": "[encoded data removed]"
          },
          "metadata": {
            "needs_background": "light"
          }
        }
      ]
    },
    {
      "cell_type": "markdown",
      "metadata": {
        "id": "o7-AvyrT5j04"
      },
      "source": [
        "#### Duas listas com as top 10 palavras mais significantes para o sentimento positivo e negativo são criadas e mostradas nos gráficos a seguir."
      ]
    },
    {
      "cell_type": "code",
      "metadata": {
        "id": "W4S94WZU_X1m"
      },
      "source": [
        "feature_importance = lr.coef_[0]\n",
        "sorted_idx = np.argsort(feature_importance)\n",
        "top_10_pos_w = [list(cv.vocabulary_.keys())[list(cv.vocabulary_.values()).index(w)] for w in sorted_idx[range(-1,-11, -1)]]\n",
        "top_10_neg_w = [list(cv.vocabulary_.keys())[list(cv.vocabulary_.values()).index(w)] for w in sorted_idx[:10]]"
      ],
      "execution_count": 30,
      "outputs": []
    },
    {
      "cell_type": "code",
      "metadata": {
        "colab": {
          "base_uri": "https://localhost:8080/",
          "height": 554
        },
        "id": "joTue356_X6r",
        "outputId": "f4cc0aaa-c108-4c48-a9be-15305ea97bc4"
      },
      "source": [
        "fig = plt.figure(figsize=(10, 6))\n",
        "ax = sns.barplot(top_10_pos_w, feature_importance[sorted_idx[range(-1,-11, -1)]])\n",
        "plt.title(\"Palavras mais importantes para sentimento positivo\",fontsize = 20)\n",
        "x_locs,x_labels = plt.xticks()\n",
        "plt.setp(x_labels, rotation = 40)\n",
        "plt.xticks(fontsize=17, rotation=90\n",
        "          )\n",
        "plt.ylabel('Relevância', fontsize = 16)\n",
        "plt.xlabel('Palavra', fontsize = 16);"
      ],
      "execution_count": 31,
      "outputs": [
        {
          "output_type": "stream",
          "name": "stderr",
          "text": [
            "/usr/local/lib/python3.7/dist-packages/seaborn/_decorators.py:43: FutureWarning: Pass the following variables as keyword args: x, y. From version 0.12, the only valid positional argument will be `data`, and passing other arguments without an explicit keyword will result in an error or misinterpretation.\n",
            "  FutureWarning\n"
          ]
        },
        {
          "output_type": "display_data",
          "data": {
            "text/plain": [
              "<Figure size 720x432 with 1 Axes>"
            ],
            "image/png": "[encoded data removed]"
          },
          "metadata": {
            "needs_background": "light"
          }
        }
      ]
    },
    {
      "cell_type": "code",
      "metadata": {
        "colab": {
          "base_uri": "https://localhost:8080/",
          "height": 591
        },
        "id": "AiRgtEsb_X_x",
        "outputId": "4864c379-3890-4ff1-8fb0-71d085a70c1f"
      },
      "source": [
        "fig = plt.figure(figsize=(10, 6))\n",
        "ax = sns.barplot(top_10_neg_w, feature_importance[sorted_idx[:10]])\n",
        "plt.title(\"Palavras mais importantes para sentimento negativo\",fontsize = 20)\n",
        "x_locs,x_labels = plt.xticks()\n",
        "plt.setp(x_labels, rotation = 40)\n",
        "plt.xticks(fontsize=17, rotation=90)\n",
        "plt.ylabel('Relevância', fontsize = 16)\n",
        "plt.xlabel('Palavra', fontsize = 16);"
      ],
      "execution_count": 32,
      "outputs": [
        {
          "output_type": "stream",
          "name": "stderr",
          "text": [
            "/usr/local/lib/python3.7/dist-packages/seaborn/_decorators.py:43: FutureWarning: Pass the following variables as keyword args: x, y. From version 0.12, the only valid positional argument will be `data`, and passing other arguments without an explicit keyword will result in an error or misinterpretation.\n",
            "  FutureWarning\n"
          ]
        },
        {
          "output_type": "display_data",
          "data": {
            "text/plain": [
              "<Figure size 720x432 with 1 Axes>"
            ],
            "image/png": "[encoded data removed]"
          },
          "metadata": {
            "needs_background": "light"
          }
        }
      ]
    },
    {
      "cell_type": "markdown",
      "metadata": {
        "id": "COB7ensi5zUj"
      },
      "source": [
        "#### Realizando alguns testes com o modelo:\n",
        "#### A função *predict_proba* mostra um array com a probabilidade de uma sentença ser positiva ou negativa, sendo a primeira posição do array a probabilidade negativa , e a segunda posição a probabilidade positiva."
      ]
    },
    {
      "cell_type": "markdown",
      "metadata": {
        "id": "F684PRC5f-Oh"
      },
      "source": [
        "#### Se Prob Neg >= 0.65 - Negativo\n",
        "#### Se Prob Neg =< 0.35 - Positivo\n",
        "#### Se prob Neg >0.35 e <0.65 - Neutro"
      ]
    },
    {
      "cell_type": "code",
      "metadata": {
        "colab": {
          "base_uri": "https://localhost:8080/"
        },
        "id": "f1Dskvsu1fLO",
        "outputId": "af94afbd-a979-482e-d895-0102b697641e"
      },
      "source": [
        "test_review = cv.transform([\"\"\"Banco mais bem administrado do Brasil\n",
        "                               e Mundo.\"\"\"])\n",
        "lr.predict_proba(test_review)"
      ],
      "execution_count": 33,
      "outputs": [
        {
          "output_type": "execute_result",
          "data": {
            "text/plain": [
              "array([[0.16921871, 0.83078129]])"
            ]
          },
          "metadata": {},
          "execution_count": 33
        }
      ]
    },
    {
      "cell_type": "code",
      "metadata": {
        "colab": {
          "base_uri": "https://localhost:8080/"
        },
        "id": "lNuS4y8B1vAp",
        "outputId": "908d4764-7d1b-410c-de30-928c194b6958"
      },
      "source": [
        "  test_review = cv.transform([\"v\"])\n",
        "lr.predict_proba(test_review)"
      ],
      "execution_count": 34,
      "outputs": [
        {
          "output_type": "execute_result",
          "data": {
            "text/plain": [
              "array([[0.46776699, 0.53223301]])"
            ]
          },
          "metadata": {},
          "execution_count": 34
        }
      ]
    },
    {
      "cell_type": "markdown",
      "metadata": {
        "id": "WF-woo6k6Iqh"
      },
      "source": [
        "#### Salvando o arquivo PKL do modelo "
      ]
    },
    {
      "cell_type": "code",
      "metadata": {
        "id": "srXsP7PK8Ab7"
      },
      "source": [
        "model_list = [pre_processor,cv,lr,train_feature_set,test_feature_set,y_train,y_test]\n",
        "pickle.dump(model_list, open(r'/gdrive/My Drive/Análise de Sentimentos/Sentiment_analysys.pkl', 'wb'))"
      ],
      "execution_count": 35,
      "outputs": []
    },
    {
      "cell_type": "code",
      "metadata": {
        "id": "fA2TPyOk8PCw"
      },
      "source": [
        "modelo_carregado = pickle.load(open(r'/gdrive/My Drive/Análise de Sentimentos/Sentiment_analysys.pkl', 'rb'))"
      ],
      "execution_count": 36,
      "outputs": []
    },
    {
      "cell_type": "markdown",
      "metadata": {
        "id": "ttl7gAQgiHGe"
      },
      "source": [
        "#### Classificando as sentenças em Sentimento Positivo, Negativo ou Neutro."
      ]
    },
    {
      "cell_type": "code",
      "metadata": {
        "id": "io1R1DpvkcYS"
      },
      "source": [
        "def Sentiment_classified(prob):\n",
        "  if prob >= 0.65:\n",
        "    return 'Negativo'\n",
        "  elif prob <= 0.35:\n",
        "    return 'Positivo'\n",
        "  else:\n",
        "    return 'Neutro'"
      ],
      "execution_count": 62,
      "outputs": []
    },
    {
      "cell_type": "code",
      "source": [
        "Sentiment_classified(modelo_carregado[2].predict_proba(modelo_carregado[1].transform \\\n",
        "                    ([modelo_carregado[0](\"\"\"O produto atendeu as expectativas e a entrega foi rápida\"\"\")]))[0][0])"
      ],
      "metadata": {
        "colab": {
          "base_uri": "https://localhost:8080/",
          "height": 35
        },
        "id": "absVLNV3eorn",
        "outputId": "c7d34f0a-a0dd-4326-b56e-d8b52a4111e7"
      },
      "execution_count": 64,
      "outputs": [
        {
          "output_type": "execute_result",
          "data": {
            "text/plain": [
              "'Positivo'"
            ],
            "application/vnd.google.colaboratory.intrinsic+json": {
              "type": "string"
            }
          },
          "metadata": {},
          "execution_count": 64
        }
      ]
    },
    {
      "cell_type": "code",
      "source": [
        "Sentiment_classified(modelo_carregado[2].predict_proba(modelo_carregado[1].transform \\\n",
        "                    ([modelo_carregado[0](\"\"\"Meu pedido foi cancelado e nao obtive o retorno financeiro nao comprem \"\"\")]))[0][0])"
      ],
      "metadata": {
        "colab": {
          "base_uri": "https://localhost:8080/",
          "height": 35
        },
        "id": "_c7Rubw3embM",
        "outputId": "25d79534-6e60-4a80-8ca8-559758b875da"
      },
      "execution_count": 65,
      "outputs": [
        {
          "output_type": "execute_result",
          "data": {
            "text/plain": [
              "'Negativo'"
            ],
            "application/vnd.google.colaboratory.intrinsic+json": {
              "type": "string"
            }
          },
          "metadata": {},
          "execution_count": 65
        }
      ]
    },
    {
      "cell_type": "code",
      "source": [
        "Sentiment_classified(modelo_carregado[2].predict_proba(modelo_carregado[1].transform \\\n",
        "                    ([modelo_carregado[0](\"\"\"Ainda pode reduzir o preço do frete\"\"\")]))[0][0])"
      ],
      "metadata": {
        "colab": {
          "base_uri": "https://localhost:8080/",
          "height": 35
        },
        "id": "w8ErdN8DfZcA",
        "outputId": "65c5d045-c909-49f1-9fb1-f57c9d62c37c"
      },
      "execution_count": 83,
      "outputs": [
        {
          "output_type": "execute_result",
          "data": {
            "text/plain": [
              "'Neutro'"
            ],
            "application/vnd.google.colaboratory.intrinsic+json": {
              "type": "string"
            }
          },
          "metadata": {},
          "execution_count": 83
        }
      ]
    }
  ]
}